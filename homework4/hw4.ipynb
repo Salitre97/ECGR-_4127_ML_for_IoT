{
 "cells": [
  {
   "cell_type": "code",
   "execution_count": 12,
   "metadata": {},
   "outputs": [
    {
     "name": "stdout",
     "output_type": "stream",
     "text": [
      "2.16.1\n"
     ]
    }
   ],
   "source": [
    "import numpy as np\n",
    "import pandas as pd\n",
    "import tensorflow as tf\n",
    "import matplotlib.pyplot as plt\n",
    "from sklearn import metrics\n",
    "import scipy\n",
    "from tensorflow.keras import Input, layers\n",
    "from tensorflow.keras.layers import Input\n",
    "import seaborn as sns\n",
    "import os\n",
    "import cv2\n",
    "from tensorflow.keras.preprocessing.image import load_img, img_to_array\n",
    "\n",
    "print(tf.__version__)"
   ]
  },
  {
   "cell_type": "code",
   "execution_count": 13,
   "metadata": {},
   "outputs": [
    {
     "data": {
      "text/html": [
       "<div>\n",
       "<style scoped>\n",
       "    .dataframe tbody tr th:only-of-type {\n",
       "        vertical-align: middle;\n",
       "    }\n",
       "\n",
       "    .dataframe tbody tr th {\n",
       "        vertical-align: top;\n",
       "    }\n",
       "\n",
       "    .dataframe thead th {\n",
       "        text-align: right;\n",
       "    }\n",
       "</style>\n",
       "<table border=\"1\" class=\"dataframe\">\n",
       "  <thead>\n",
       "    <tr style=\"text-align: right;\">\n",
       "      <th></th>\n",
       "      <th>model_output</th>\n",
       "      <th>prediction</th>\n",
       "      <th>true_class</th>\n",
       "    </tr>\n",
       "  </thead>\n",
       "  <tbody>\n",
       "    <tr>\n",
       "      <th>0</th>\n",
       "      <td>6.039733</td>\n",
       "      <td>1</td>\n",
       "      <td>1</td>\n",
       "    </tr>\n",
       "    <tr>\n",
       "      <th>1</th>\n",
       "      <td>2.450787</td>\n",
       "      <td>0</td>\n",
       "      <td>0</td>\n",
       "    </tr>\n",
       "    <tr>\n",
       "      <th>2</th>\n",
       "      <td>2.417883</td>\n",
       "      <td>0</td>\n",
       "      <td>1</td>\n",
       "    </tr>\n",
       "    <tr>\n",
       "      <th>3</th>\n",
       "      <td>-0.451535</td>\n",
       "      <td>0</td>\n",
       "      <td>0</td>\n",
       "    </tr>\n",
       "    <tr>\n",
       "      <th>4</th>\n",
       "      <td>1.173396</td>\n",
       "      <td>0</td>\n",
       "      <td>0</td>\n",
       "    </tr>\n",
       "  </tbody>\n",
       "</table>\n",
       "</div>"
      ],
      "text/plain": [
       "   model_output  prediction  true_class\n",
       "0      6.039733           1           1\n",
       "1      2.450787           0           0\n",
       "2      2.417883           0           1\n",
       "3     -0.451535           0           0\n",
       "4      1.173396           0           0"
      ]
     },
     "execution_count": 13,
     "metadata": {},
     "output_type": "execute_result"
    }
   ],
   "source": [
    "# Load dataset\n",
    "\n",
    "# path for pop!_OS\n",
    "file_name = '/home/csalitre/School/ecgr-4127/tinyml/datasets/hw4_data.csv'\n",
    "\n",
    "# path for WSL\n",
    "#file_name = '/home/csalitre/school/ecgr-4127/tinyml/datasets/hw4_data.csv'\n",
    "df = pd.read_csv(file_name)\n",
    "\n",
    "df.head(5)"
   ]
  },
  {
   "cell_type": "code",
   "execution_count": 7,
   "metadata": {},
   "outputs": [
    {
     "data": {
      "text/plain": [
       "array([ 6.03973338,  2.45078686,  2.4178825 , -0.4515346 ,  1.17339604])"
      ]
     },
     "execution_count": 7,
     "metadata": {},
     "output_type": "execute_result"
    }
   ],
   "source": [
    "# convert columns to numpy arrays\n",
    "model_output = df['model_output'].to_numpy()\n",
    "prediction = df['prediction'].to_numpy()\n",
    "true_class = df['true_class'].to_numpy()\n",
    "\n",
    "model_output[:5]"
   ]
  },
  {
   "cell_type": "code",
   "execution_count": 8,
   "metadata": {},
   "outputs": [
    {
     "name": "stdout",
     "output_type": "stream",
     "text": [
      "True Positives: 26\n",
      "False Positives: 21\n",
      "True Negatives: 150\n",
      "False Negatives: 21\n",
      "Precision: 0.8966\n",
      "Recall: 0.5532\n"
     ]
    }
   ],
   "source": [
    "# Find metrics TP, FP, TN, FN, precision and recall\n",
    "true_positives = ((df['prediction'] == 1) & (df['true_class'] == 1)).sum()\n",
    "false_positives = ((df['prediction'] == 1) & (df['true_class'] == 0)).sum()\n",
    "true_negatives = ((df['prediction'] == 0) & (df['true_class'] == 0)).sum()\n",
    "false_negatives = ((df['prediction'] == 0) & (df['true_class'] == 1)).sum()\n",
    "\n",
    "precision = round(true_positives / (true_positives + false_positives), 4)\n",
    "recall = round(true_positives / (true_positives + false_negatives), 4)\n",
    "\n",
    "print(f\"True Positives: {true_positives}\")\n",
    "print(f\"False Positives: {false_negatives}\")\n",
    "print(f\"True Negatives: {true_negatives}\")\n",
    "print(f\"False Negatives: {false_negatives}\")\n",
    "print(f\"Precision: {precision}\")\n",
    "print(f\"Recall: {recall}\")"
   ]
  },
  {
   "cell_type": "code",
   "execution_count": 9,
   "metadata": {},
   "outputs": [
    {
     "data": {
      "image/png": "[encoded data removed]",
      "text/plain": [
       "<Figure size 640x480 with 1 Axes>"
      ]
     },
     "metadata": {},
     "output_type": "display_data"
    }
   ],
   "source": [
    "# Plot ROC curve\n",
    "fpr, tpr, threshold = metrics.roc_curve(true_class, prediction)\n",
    "roc_auc = metrics.auc(fpr, tpr)\n",
    "\n",
    "metrics.RocCurveDisplay(fpr=fpr, tpr=tpr, roc_auc=roc_auc, estimator_name='model').plot()\n",
    "\n",
    "plt.title('ROC curve')\n",
    "plt.grid(True)\n",
    "plt.show()\n"
   ]
  },
  {
   "cell_type": "code",
   "execution_count": 10,
   "metadata": {},
   "outputs": [
    {
     "name": "stdout",
     "output_type": "stream",
     "text": [
      "The minimum False Positive Rate: 2.998438545616775\n"
     ]
    }
   ],
   "source": [
    "#find the minimum FP rate you can achieve to correctly detect at least 90% of all actual positives\n",
    "#FP = (true positives/precision) - true positives -- precision = 0.9\n",
    "min_false_positives = (true_positives / precision) - true_positives\n",
    "print(f\"The minimum False Positive Rate: {min_false_positives}\")"
   ]
  },
  {
   "cell_type": "code",
   "execution_count": 19,
   "metadata": {},
   "outputs": [],
   "source": [
    "# Load the Dataset\n",
    "directory = '/home/csalitre/School/ecgr-4127/sports_cars'\n",
    "\n",
    "def load_images(directory, target_size=(32, 32)):\n",
    "    images = []\n",
    "    labels = []  # 1 for positive, 0 for negative\n",
    "\n",
    "    # Load positive images\n",
    "    for filename in os.listdir(os.path.join(directory, 'positive')):\n",
    "        img = load_img(os.path.join(directory, 'positive', filename), target_size=target_size)\n",
    "        img = img_to_array(img)\n",
    "        images.append(img)\n",
    "        labels.append(1)\n",
    "\n",
    "    # Load negative images\n",
    "    for filename in os.listdir(os.path.join(directory, 'negative')):\n",
    "        img = load_img(os.path.join(directory, 'negative', filename), target_size=target_size)\n",
    "        img = img_to_array(img)\n",
    "        images.append(img)\n",
    "        labels.append(0)\n",
    "\n",
    "    return np.array(images), np.array(labels)\n",
    "\n",
    "# Assuming you have a small number of images, you might not have a separate test set\n",
    "all_train_images, all_train_labels = load_images(directory)\n",
    "#all_test_images, all_test_labels = load_images(directory)\n",
    "\n",
    "\n",
    "# Normalize the images\n",
    "all_train_images = all_train_images / 255.0\n",
    "#all_test_images = all_test_images / 255.0"
   ]
  }
 ],
 "metadata": {
  "kernelspec": {
   "display_name": "Python 3",
   "language": "python",
   "name": "python3"
  },
  "language_info": {
   "codemirror_mode": {
    "name": "ipython",
    "version": 3
   },
   "file_extension": ".py",
   "mimetype": "text/x-python",
   "name": "python",
   "nbconvert_exporter": "python",
   "pygments_lexer": "ipython3",
   "version": "3.10.12"
  }
 },
 "nbformat": 4,
 "nbformat_minor": 2
}
