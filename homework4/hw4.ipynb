{
 "cells": [
  {
   "cell_type": "code",
   "execution_count": 34,
   "metadata": {},
   "outputs": [
    {
     "name": "stdout",
     "output_type": "stream",
     "text": [
      "2.15.0\n"
     ]
    }
   ],
   "source": [
    "\n",
    "from tensorflow.keras.datasets import cifar100\n",
    "# TensorFlow and tf.keras\n",
    "import tensorflow as tf\n",
    "from tensorflow import keras\n",
    "from tensorflow.keras import Input, layers\n",
    "from tensorflow.keras.layers import Input\n",
    "\n",
    "# Helper libraries\n",
    "import numpy as np\n",
    "import matplotlib.pyplot as plt\n",
    "\n",
    "import seaborn as sns\n",
    "from sklearn import metrics\n",
    "import scipy\n",
    "\n",
    "print(tf.__version__)"
   ]
  },
  {
   "cell_type": "code",
   "execution_count": 24,
   "metadata": {},
   "outputs": [
    {
     "data": {
      "text/html": [
       "<div>\n",
       "<style scoped>\n",
       "    .dataframe tbody tr th:only-of-type {\n",
       "        vertical-align: middle;\n",
       "    }\n",
       "\n",
       "    .dataframe tbody tr th {\n",
       "        vertical-align: top;\n",
       "    }\n",
       "\n",
       "    .dataframe thead th {\n",
       "        text-align: right;\n",
       "    }\n",
       "</style>\n",
       "<table border=\"1\" class=\"dataframe\">\n",
       "  <thead>\n",
       "    <tr style=\"text-align: right;\">\n",
       "      <th></th>\n",
       "      <th>model_output</th>\n",
       "      <th>prediction</th>\n",
       "      <th>true_class</th>\n",
       "    </tr>\n",
       "  </thead>\n",
       "  <tbody>\n",
       "    <tr>\n",
       "      <th>0</th>\n",
       "      <td>6.039733</td>\n",
       "      <td>1</td>\n",
       "      <td>1</td>\n",
       "    </tr>\n",
       "    <tr>\n",
       "      <th>1</th>\n",
       "      <td>2.450787</td>\n",
       "      <td>0</td>\n",
       "      <td>0</td>\n",
       "    </tr>\n",
       "    <tr>\n",
       "      <th>2</th>\n",
       "      <td>2.417883</td>\n",
       "      <td>0</td>\n",
       "      <td>1</td>\n",
       "    </tr>\n",
       "    <tr>\n",
       "      <th>3</th>\n",
       "      <td>-0.451535</td>\n",
       "      <td>0</td>\n",
       "      <td>0</td>\n",
       "    </tr>\n",
       "    <tr>\n",
       "      <th>4</th>\n",
       "      <td>1.173396</td>\n",
       "      <td>0</td>\n",
       "      <td>0</td>\n",
       "    </tr>\n",
       "  </tbody>\n",
       "</table>\n",
       "</div>"
      ],
      "text/plain": [
       "   model_output  prediction  true_class\n",
       "0      6.039733           1           1\n",
       "1      2.450787           0           0\n",
       "2      2.417883           0           1\n",
       "3     -0.451535           0           0\n",
       "4      1.173396           0           0"
      ]
     },
     "execution_count": 24,
     "metadata": {},
     "output_type": "execute_result"
    }
   ],
   "source": [
    "# Load dataset\n",
    "\n",
    "# path for pop!_OS\n",
    "#file_name = '/home/csalitre/School/ecgr-4127/tinyml/datasets/hw4_data.csv'\n",
    "\n",
    "# path for WSL\n",
    "file_name = '/home/csalitre/school/ecgr-4127/tinyml/datasets/hw4_data.csv'\n",
    "df = pd.read_csv(file_name)\n",
    "\n",
    "df.head(5)"
   ]
  },
  {
   "cell_type": "code",
   "execution_count": 25,
   "metadata": {},
   "outputs": [
    {
     "data": {
      "text/plain": [
       "array([ 6.03973338,  2.45078686,  2.4178825 , -0.4515346 ,  1.17339604])"
      ]
     },
     "execution_count": 25,
     "metadata": {},
     "output_type": "execute_result"
    }
   ],
   "source": [
    "# convert columns to numpy arrays\n",
    "model_output = df['model_output'].to_numpy()\n",
    "prediction = df['prediction'].to_numpy()\n",
    "true_class = df['true_class'].to_numpy()\n",
    "\n",
    "model_output[:5]"
   ]
  },
  {
   "cell_type": "code",
   "execution_count": 26,
   "metadata": {},
   "outputs": [
    {
     "name": "stdout",
     "output_type": "stream",
     "text": [
      "True Positives: 26\n",
      "False Positives: 21\n",
      "True Negatives: 150\n",
      "False Negatives: 21\n",
      "Precision: 0.8966\n",
      "Recall: 0.5532\n"
     ]
    }
   ],
   "source": [
    "# Find metrics TP, FP, TN, FN, precision and recall\n",
    "true_positives = ((df['prediction'] == 1) & (df['true_class'] == 1)).sum()\n",
    "false_positives = ((df['prediction'] == 1) & (df['true_class'] == 0)).sum()\n",
    "true_negatives = ((df['prediction'] == 0) & (df['true_class'] == 0)).sum()\n",
    "false_negatives = ((df['prediction'] == 0) & (df['true_class'] == 1)).sum()\n",
    "\n",
    "precision = round(true_positives / (true_positives + false_positives), 4)\n",
    "recall = round(true_positives / (true_positives + false_negatives), 4)\n",
    "\n",
    "print(f\"True Positives: {true_positives}\")\n",
    "print(f\"False Positives: {false_negatives}\")\n",
    "print(f\"True Negatives: {true_negatives}\")\n",
    "print(f\"False Negatives: {false_negatives}\")\n",
    "print(f\"Precision: {precision}\")\n",
    "print(f\"Recall: {recall}\")"
   ]
  },
  {
   "cell_type": "code",
   "execution_count": 27,
   "metadata": {},
   "outputs": [
    {
     "data": {
      "image/png": "[encoded data removed]",
      "text/plain": [
       "<Figure size 640x480 with 1 Axes>"
      ]
     },
     "metadata": {},
     "output_type": "display_data"
    }
   ],
   "source": [
    "# Plot ROC curve\n",
    "fpr, tpr, threshold = metrics.roc_curve(true_class, prediction)\n",
    "roc_auc = metrics.auc(fpr, tpr)\n",
    "\n",
    "metrics.RocCurveDisplay(fpr=fpr, tpr=tpr, roc_auc=roc_auc, estimator_name='model').plot()\n",
    "\n",
    "plt.title('ROC curve')\n",
    "plt.grid(True)\n",
    "plt.show()\n"
   ]
  },
  {
   "cell_type": "code",
   "execution_count": 28,
   "metadata": {},
   "outputs": [
    {
     "name": "stdout",
     "output_type": "stream",
     "text": [
      "The minimum False Positive Rate: 2.998438545616775\n"
     ]
    }
   ],
   "source": [
    "#find the minimum FP rate you can achieve to correctly detect at least 90% of all actual positives\n",
    "#FP = (true positives/precision) - true positives -- precision = 0.9\n",
    "min_false_positives = (true_positives / precision) - true_positives\n",
    "print(f\"The minimum False Positive Rate: {min_false_positives}\")"
   ]
  },
  {
   "cell_type": "code",
   "execution_count": 36,
   "metadata": {},
   "outputs": [
    {
     "name": "stdout",
     "output_type": "stream",
     "text": [
      "50000 Training Images range from 0.000 to 1.000\n",
      "10000 Test Images range from 0.000 to 1.000\n"
     ]
    }
   ],
   "source": [
    "# Load the Dataset\n",
    "(all_train_images, all_train_labels), (all_test_images, all_test_labels) = \\\n",
    "  tf.keras.datasets.cifar100.load_data()\n",
    "\n",
    "all_train_labels = all_train_labels.squeeze()\n",
    "all_test_labels = all_test_labels.squeeze()\n",
    "\n",
    "input_shape = all_train_images.shape[1:]\n",
    "all_train_images = all_train_images / 255.0\n",
    "all_test_images = all_test_images / 255.0\n",
    "\n",
    "print(\"{:4d} Training Images range from {:2.3f} to {:2.3f}\".format(\n",
    "    len(all_train_labels), np.min(all_train_images), np.max(all_train_images)))\n",
    "print(\"{:4d} Test Images range from {:2.3f} to {:2.3f}\".format(\n",
    "    len(all_test_labels), np.min(all_test_images), np.max(all_test_images)))\n",
    "\n",
    "\n"
   ]
  },
  {
   "cell_type": "code",
   "execution_count": 38,
   "metadata": {},
   "outputs": [],
   "source": [
    "def plot_train_hist(train_hist):\n",
    "  plt.subplot(2,1,1)\n",
    "  plt.plot(train_hist.epoch, train_hist.history['loss'], label='Train Loss')\n",
    "  if 'val_loss' in train_hist.history:\n",
    "    plt.plot(train_hist.epoch, train_hist.history['val_loss'], label='Val Loss')\n",
    "  plt.grid(True)\n",
    "  plt.legend()\n",
    "  \n",
    "  plt.subplot(2,1,2)\n",
    "  plt.plot(train_hist.epoch, train_hist.history['accuracy'], label=\"Train Accuracy\")\n",
    "  if 'val_accuracy' in train_hist.history:\n",
    "    plt.plot(train_hist.epoch, train_hist.history['val_accuracy'], label=\"Val Accuracy\")\n",
    "  plt.legend()\n",
    "  plt.grid(True)"
   ]
  },
  {
   "cell_type": "code",
   "execution_count": 39,
   "metadata": {},
   "outputs": [],
   "source": [
    "def build_model(input_shape=(32,32,3), num_classes=2):\n",
    "    \n",
    "    inputs = Input(shape=input_shape)\n",
    "    x = layers.Conv2D(32, kernel_size=(3,3), strides=(2,2), \n",
    "                  activation=\"relu\", padding='same')(inputs)\n",
    "    y = layers.BatchNormalization()(x) # save the result in y for the skip connection\n",
    "\n",
    "    \n",
    "    x = layers.Conv2D(64, kernel_size=(3,3), strides=(2,2), padding='same')(y)\n",
    "    x = layers.BatchNormalization()(x)\n",
    "    \n",
    "    x = layers.Conv2D(128, kernel_size=(3,3), strides=(2,2),\n",
    "              activation=\"relu\", padding='same')(x)\n",
    "    x = layers.BatchNormalization()(x)\n",
    "    \n",
    "    # match the channel counts and feature map size for the skip ADD.\n",
    "    y = layers.Conv2D(128, kernel_size=(1,1), strides=(4,4))(y) \n",
    "    y = layers.add((x,y))\n",
    "\n",
    "    x = layers.Conv2D(128, kernel_size=(3,3), activation=\"relu\", padding='same')(y)\n",
    "    x = layers.BatchNormalization()(x)\n",
    "\n",
    "    x = layers.Conv2D(128, kernel_size=(3,3), activation=\"relu\", padding='same')(x)\n",
    "    x = layers.BatchNormalization()(x)\n",
    "    \n",
    "    y = layers.add((x,y))\n",
    "\n",
    "    x = layers.Conv2D(128, kernel_size=(3,3), activation=\"relu\", padding='same')(y)\n",
    "    x = layers.BatchNormalization()(x)\n",
    "\n",
    "    x = layers.Conv2D(128, kernel_size=(3,3), activation=\"relu\", padding='same')(x)\n",
    "    x = layers.BatchNormalization()(x)\n",
    "    \n",
    "    y = layers.add((x,y))\n",
    "\n",
    "    x = layers.MaxPooling2D(pool_size=(4,4))(y)\n",
    "    x = layers.Flatten()(x)\n",
    "\n",
    "    x = layers.Dense(128, activation='relu')(x)\n",
    "    # x = layers.BatchNormalization()(x)\n",
    "    x = outputs = layers.Dense(2)(x)\n",
    "\n",
    "    model = keras.Model(inputs, outputs)\n",
    "    return model"
   ]
  },
  {
   "cell_type": "code",
   "execution_count": 40,
   "metadata": {},
   "outputs": [],
   "source": [
    "def build_model_sm(input_shape=(32,32,3), num_classes=2):\n",
    "    \n",
    "    inputs = Input(shape=input_shape)\n",
    "    x = layers.Conv2D(32, kernel_size=(3,3), strides=(2,2), \n",
    "                  activation=\"relu\", padding='same')(inputs)\n",
    "    y = layers.BatchNormalization()(x) # save the result in y for the skip connection\n",
    "\n",
    "    \n",
    "    x = layers.SeparableConv2D(32, kernel_size=(3,3), strides=(2,2), padding='same')(y)\n",
    "    x = layers.BatchNormalization()(x)\n",
    "\n",
    "    x = layers.MaxPooling2D(pool_size=(8,8))(y)\n",
    "    x = layers.Flatten()(x)\n",
    "\n",
    "    x = layers.Dense(64, activation='relu')(x)\n",
    "    # x = layers.BatchNormalization()(x)\n",
    "    x = outputs = layers.Dense(2)(x)\n",
    "\n",
    "    model = keras.Model(inputs, outputs)\n",
    "    return model\n"
   ]
  },
  {
   "cell_type": "code",
   "execution_count": 41,
   "metadata": {},
   "outputs": [],
   "source": [
    "model = build_model_sm(input_shape=input_shape, num_classes=100)\n",
    "\n",
    "EPOCHS = 20\n",
    "\n",
    "model.compile(optimizer='adam',\n",
    "              loss=tf.keras.losses.SparseCategoricalCrossentropy(from_logits=True),\n",
    "              metrics=['accuracy'])"
   ]
  },
  {
   "cell_type": "code",
   "execution_count": null,
   "metadata": {},
   "outputs": [],
   "source": [
    "train_hist = model.fit(all_train_images, all_train_labels, epochs=EPOCHS)"
   ]
  }
 ],
 "metadata": {
  "kernelspec": {
   "display_name": "Python 3",
   "language": "python",
   "name": "python3"
  },
  "language_info": {
   "codemirror_mode": {
    "name": "ipython",
    "version": 3
   },
   "file_extension": ".py",
   "mimetype": "text/x-python",
   "name": "python",
   "nbconvert_exporter": "python",
   "pygments_lexer": "ipython3",
   "version": "3.10.12"
  }
 },
 "nbformat": 4,
 "nbformat_minor": 2
}
